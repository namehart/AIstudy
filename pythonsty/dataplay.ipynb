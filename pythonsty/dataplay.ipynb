{
 "cells": [
  {
   "cell_type": "markdown",
   "metadata": {},
   "source": [
    "# numpy\n",
    "\n",
    "---\n",
    "\n",
    "> python 效率代表\n"
   ]
  },
  {
   "cell_type": "code",
   "execution_count": 2,
   "metadata": {},
   "outputs": [],
   "source": [
    "import numpy as np"
   ]
  },
  {
   "cell_type": "markdown",
   "metadata": {},
   "source": [
    "## 数据结构\n",
    "\n",
    "ndarry\n"
   ]
  },
  {
   "cell_type": "code",
   "execution_count": null,
   "metadata": {},
   "outputs": [
    {
     "name": "stdout",
     "output_type": "stream",
     "text": [
      "\u001b[1;31mType:\u001b[0m        ndarray\n",
      "\u001b[1;31mString form:\u001b[0m\n",
      "[[1 1]\n",
      " [1 1]]\n",
      "\u001b[1;31mLength:\u001b[0m      2\n",
      "\u001b[1;31mFile:\u001b[0m        c:\\users\\administrator.pc-202104131141.000\\appdata\\local\\programs\\python\\python311\\lib\\site-packages\\numpy\\__init__.py\n",
      "\u001b[1;31mDocstring:\u001b[0m  \n",
      "ndarray(shape, dtype=float, buffer=None, offset=0,\n",
      "        strides=None, order=None)\n",
      "\n",
      "An array object represents a multidimensional, homogeneous array\n",
      "of fixed-size items.  An associated data-type object describes the\n",
      "format of each element in the array (its byte-order, how many bytes it\n",
      "occupies in memory, whether it is an integer, a floating point number,\n",
      "or something else, etc.)\n",
      "\n",
      "Arrays should be constructed using `array`, `zeros` or `empty` (refer\n",
      "to the See Also section below).  The parameters given here refer to\n",
      "a low-level method (`ndarray(...)`) for instantiating an array.\n",
      "\n",
      "For more information, refer to the `numpy` module and examine the\n",
      "methods and attributes of an array.\n",
      "\n",
      "Parameters\n",
      "----------\n",
      "(for the __new__ method; see Notes below)\n",
      "\n",
      "shape : tuple of ints\n",
      "    Shape of created array.\n",
      "dtype : data-type, optional\n",
      "    Any object that can be interpreted as a numpy data type.\n",
      "buffer : object exposing buffer interface, optional\n",
      "    Used to fill the array with data.\n",
      "offset : int, optional\n",
      "    Offset of array data in buffer.\n",
      "strides : tuple of ints, optional\n",
      "    Strides of data in memory.\n",
      "order : {'C', 'F'}, optional\n",
      "    Row-major (C-style) or column-major (Fortran-style) order.\n",
      "\n",
      "Attributes\n",
      "----------\n",
      "T : ndarray\n",
      "    Transpose of the array.\n",
      "data : buffer\n",
      "    The array's elements, in memory.\n",
      "dtype : dtype object\n",
      "    Describes the format of the elements in the array.\n",
      "flags : dict\n",
      "    Dictionary containing information related to memory use, e.g.,\n",
      "    'C_CONTIGUOUS', 'OWNDATA', 'WRITEABLE', etc.\n",
      "flat : numpy.flatiter object\n",
      "    Flattened version of the array as an iterator.  The iterator\n",
      "    allows assignments, e.g., ``x.flat = 3`` (See `ndarray.flat` for\n",
      "    assignment examples; TODO).\n",
      "imag : ndarray\n",
      "    Imaginary part of the array.\n",
      "real : ndarray\n",
      "    Real part of the array.\n",
      "size : int\n",
      "    Number of elements in the array.\n",
      "itemsize : int\n",
      "    The memory use of each array element in bytes.\n",
      "nbytes : int\n",
      "    The total number of bytes required to store the array data,\n",
      "    i.e., ``itemsize * size``.\n",
      "ndim : int\n",
      "    The array's number of dimensions.\n",
      "shape : tuple of ints\n",
      "    Shape of the array.\n",
      "strides : tuple of ints\n",
      "    The step-size required to move from one element to the next in\n",
      "    memory. For example, a contiguous ``(3, 4)`` array of type\n",
      "    ``int16`` in C-order has strides ``(8, 2)``.  This implies that\n",
      "    to move from element to element in memory requires jumps of 2 bytes.\n",
      "    To move from row-to-row, one needs to jump 8 bytes at a time\n",
      "    (``2 * 4``).\n",
      "ctypes : ctypes object\n",
      "    Class containing properties of the array needed for interaction\n",
      "    with ctypes.\n",
      "base : ndarray\n",
      "    If the array is a view into another array, that array is its `base`\n",
      "    (unless that array is also a view).  The `base` array is where the\n",
      "    array data is actually stored.\n",
      "\n",
      "See Also\n",
      "--------\n",
      "array : Construct an array.\n",
      "zeros : Create an array, each element of which is zero.\n",
      "empty : Create an array, but leave its allocated memory unchanged (i.e.,\n",
      "        it contains \"garbage\").\n",
      "dtype : Create a data-type.\n",
      "numpy.typing.NDArray : An ndarray alias :term:`generic <generic type>`\n",
      "                       w.r.t. its `dtype.type <numpy.dtype.type>`.\n",
      "\n",
      "Notes\n",
      "-----\n",
      "There are two modes of creating an array using ``__new__``:\n",
      "\n",
      "1. If `buffer` is None, then only `shape`, `dtype`, and `order`\n",
      "   are used.\n",
      "2. If `buffer` is an object exposing the buffer interface, then\n",
      "   all keywords are interpreted.\n",
      "\n",
      "No ``__init__`` method is needed because the array is fully initialized\n",
      "after the ``__new__`` method.\n",
      "\n",
      "Examples\n",
      "--------\n",
      "These examples illustrate the low-level `ndarray` constructor.  Refer\n",
      "to the `See Also` section above for easier ways of constructing an\n",
      "ndarray.\n",
      "\n",
      "First mode, `buffer` is None:\n",
      "\n",
      ">>> import numpy as np\n",
      ">>> np.ndarray(shape=(2,2), dtype=float, order='F')\n",
      "array([[0.0e+000, 0.0e+000], # random\n",
      "       [     nan, 2.5e-323]])\n",
      "\n",
      "Second mode:\n",
      "\n",
      ">>> np.ndarray((2,), buffer=np.array([1,2,3]),\n",
      "...            offset=np.int_().itemsize,\n",
      "...            dtype=int) # offset = 1*itemsize, i.e. skip first element\n",
      "array([2, 3])"
     ]
    }
   ],
   "source": [
    "a = np.array([1, 1, 1, 1])\n",
    "b = np.array([[1, 1], [1, 1]])\n",
    "print(a,b)\n",
    "\n",
    "b?"
   ]
  },
  {
   "cell_type": "markdown",
   "metadata": {},
   "source": [
    "生成数组的方法有很多\n",
    "\n",
    "```python\n",
    "import numpy.random\n",
    "```\n",
    "\n",
    "从**分布**中随机抽取\n"
   ]
  },
  {
   "cell_type": "code",
   "execution_count": 10,
   "metadata": {},
   "outputs": [
    {
     "data": {
      "text/plain": [
       "(array([[0.04340055, 0.23518814, 0.11763285, 0.78640522],\n",
       "        [0.09358379, 0.99329944, 0.63739054, 0.00348929],\n",
       "        [0.65711287, 0.79079108, 0.44320066, 0.87679285],\n",
       "        [0.44324274, 0.38317774, 0.01907671, 0.14561872]]),\n",
       " array([ 0.29392213, -0.69359169,  4.43663021]),\n",
       " array([0.43343925, 0.9686345 , 0.25966091, 0.41936541]))"
      ]
     },
     "execution_count": 10,
     "metadata": {},
     "output_type": "execute_result"
    }
   ],
   "source": [
    "import numpy as np\n",
    "\n",
    "a = np.random.random((4, 4))\n",
    "\n",
    "b = np.random.normal((1, 1, 4))  # 正态分布\n",
    "\n",
    "c = np.random.rand(4)\n",
    "a, b, c"
   ]
  },
  {
   "cell_type": "markdown",
   "metadata": {},
   "source": [
    "操作数组的方法有：\n",
    "\n",
    "1. numpy 内建函数\n"
   ]
  },
  {
   "cell_type": "code",
   "execution_count": null,
   "metadata": {},
   "outputs": [
    {
     "name": "stdout",
     "output_type": "stream",
     "text": [
      "[0.29392213 0.69359169 4.43663021]\n",
      "[ 0.28970837 -0.63930315 -0.96221888]\n",
      "True\n",
      "1.345653548452231\n",
      "[ 0.29392213 -0.69359169  4.43663021]\n",
      "2.22252085183687\n"
     ]
    },
    {
     "data": {
      "text/plain": [
       "(array([0.29392213, 0.69359169, 4.43663021]),\n",
       " array([ 0.28970837, -0.63930315, -0.96221888]),\n",
       " np.True_,\n",
       " np.float64(1.345653548452231),\n",
       " array([ 0.29392213, -0.69359169,  4.43663021]),\n",
       " np.float64(2.22252085183687))"
      ]
     },
     "execution_count": 18,
     "metadata": {},
     "output_type": "execute_result"
    }
   ],
   "source": [
    "d = np.abs(b)\n",
    "e = np.sin(b)\n",
    "f = np.all(b)\n",
    "g = b.mean()\n",
    "h = b.T\n",
    "i = b.std()\n",
    "j = np.max()\n",
    "print(d, e, f, g, h, i, sep=\"\\n\")\n",
    "d, e, f, g, h, i"
   ]
  },
  {
   "cell_type": "markdown",
   "metadata": {},
   "source": [
    "2. 操作符\n"
   ]
  },
  {
   "cell_type": "code",
   "execution_count": null,
   "metadata": {},
   "outputs": [
    {
     "name": "stdout",
     "output_type": "stream",
     "text": [
      "[18.46751402 22.74907598 17.07728728 18.3549233 ]\n",
      "[36.93502804 45.49815195 34.15457457 36.70984661]\n",
      "[[0.68946773 0.3153959  0.95615319 0.22611521]\n",
      " [0.3153959  1.40168059 1.13253875 0.43475799]\n",
      " [0.95615319 1.13253875 2.0223404  0.73040631]\n",
      " [0.22611521 0.43475799 0.73040631 0.36485804]]\n"
     ]
    }
   ],
   "source": [
    "c += 1\n",
    "print(c)\n",
    "c *= 2\n",
    "print(c)\n",
    "print(a @ a.T)  # 求法向量"
   ]
  },
  {
   "cell_type": "markdown",
   "metadata": {},
   "source": [
    "# pandas\n",
    "\n",
    "---\n",
    "\n",
    "> 可爱的熊猫\n"
   ]
  },
  {
   "cell_type": "markdown",
   "metadata": {},
   "source": [
    "pandas 的数据主要是以`DataFrame`存储，是一个表。\n",
    "||纬度（°N）|经度（°E）| 观测年份|AGPP（gC m-2 yr-1)|MAT（℃）|\n",
    "|---|---|---|---|---|---|\n",
    "|nih|18.73|108.89|2,006|1,919|20.84|\n",
    "|66|18.73|108.89|2,007|1,919|20.61|\n"
   ]
  },
  {
   "cell_type": "code",
   "execution_count": null,
   "metadata": {},
   "outputs": [
    {
     "name": "stdout",
     "output_type": "stream",
     "text": [
      "Original columns: Index(['站点顺序号', '站点名称', '生态系统类型', '纬度（°N）', '经度（°E）', '观测年份',\n",
      "       'AGPP（gC m-2 yr-1)', 'MAT（℃）', 'MAP（mm yr -1）', 'PAR（MJ m-2 yr-1）',\n",
      "       'PET（mm yr -1）', 'VPD(kpa)', 'ρc,yr（mgCO2m-3）', 'SM（m3 m-3）',\n",
      "       'SOC(gC m-2)', 'STN（gN m-2)', 'LAI（m2 m-2）', 'MLAI（m2 m-2）',\n",
      "       '重复标志（1为重复）', '参考文献'],\n",
      "      dtype='object')\n"
     ]
    }
   ],
   "source": [
    "import pandas as pd\n",
    "\n",
    "\n",
    "a = pd.read_excel(r\"..\\data\\中国陆地生态系统站点观测年总初级生产力数据集.xlsx\")"
   ]
  }
 ],
 "metadata": {
  "kernelspec": {
   "display_name": "Python 3",
   "language": "python",
   "name": "python3"
  },
  "language_info": {
   "codemirror_mode": {
    "name": "ipython",
    "version": 3
   },
   "file_extension": ".py",
   "mimetype": "text/x-python",
   "name": "python",
   "nbconvert_exporter": "python",
   "pygments_lexer": "ipython3",
   "version": "3.11.2"
  }
 },
 "nbformat": 4,
 "nbformat_minor": 2
}
